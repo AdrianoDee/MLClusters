{
 "cells": [
  {
   "cell_type": "code",
   "execution_count": 7,
   "metadata": {
    "collapsed": true
   },
   "outputs": [],
   "source": [
    "import os\n",
    "from os import listdir\n",
    "from os.path import isfile, join\n",
    "import sys, time\n",
    "import argparse\n",
    "\n",
    "from math import floor\n",
    "\n",
    "headLab = [\"run\",\"evt\",\"detSeqIn\",\"detSeqOut\",\"inX\",\"inY\",\"inZ\",\n",
    "\"outX\",\"outY\",\"outZ\",\"detCounterIn\",\"detCounterOut\",\"isBarrelIn\",\"isBarrelOut\",\n",
    "\"layerIn\",\"ladderIn\",\"moduleIn\",\"sideIn\",\"diskIn\",\"panelIn\",\"bladeIn\",\n",
    "\"layerOut\",\"ladderOut\",\"moduleOut\",\"sideOut\",\"diskOut\",\"panelOut\",\"bladeOut\",\n",
    "\"nId\",\"outId\",\"isBigIn\",\"isEdgIn\",\"isBadIn\",\"isBigOut\",\"isEdgOut\",\"isBadOut\",\n",
    "\"isFlippedIn\",\"isFlippedOut\",\"pixInX\",\"pixInY\",\"pixOutX\",\"pixOutY\",\"inADC\",\"outADC\",\"diffADC\"]\n",
    "\n",
    "\n",
    "inPixLab = [\"inPix1\",\"inPix2\",\"inPix3\",\"inPix4\",\"inPix5\",\"inPix6\",\"inPix7\",\"inPix8\",\"inPix9\",\"inPix10\",\n",
    "\"inPix11\",\"inPix12\",\"inPix13\",\"inPix14\",\"inPix15\",\"inPix16\",\"inPix17\",\"inPix18\",\"inPix19\",\"inPix20\",\n",
    "\"inPix21\",\"inPix22\",\"inPix23\",\"inPix24\",\"inPix25\",\"inPix26\",\"inPix27\",\"inPix28\",\"inPix29\",\"inPix30\",\n",
    "\"inPix31\",\"inPix32\",\"inPix33\",\"inPix34\",\"inPix35\",\"inPix36\",\"inPix37\",\"inPix38\",\"inPix39\",\"inPix40\",\n",
    "\"inPix41\",\"inPix42\",\"inPix43\",\"inPix44\",\"inPix45\",\"inPix46\",\"inPix47\",\"inPix48\",\"inPix49\",\"inPix50\",\n",
    "\"inPix51\",\"inPix52\",\"inPix53\",\"inPix54\",\"inPix55\",\"inPix56\",\"inPix57\",\"inPix58\",\"inPix59\",\"inPix60\",\n",
    "\"inPix61\",\"inPix62\",\"inPix63\",\"inPix64\",\"inPix65\",\"inPix66\",\"inPix67\",\"inPix68\",\"inPix69\",\"inPix70\",\n",
    "\"inPix71\",\"inPix72\",\"inPix73\",\"inPix74\",\"inPix75\",\"inPix76\",\"inPix77\",\"inPix78\",\"inPix79\",\"inPix80\",\n",
    "\"inPix81\",\"inPix82\",\"inPix83\",\"inPix84\",\"inPix85\",\"inPix86\",\"inPix87\",\"inPix88\",\"inPix89\",\"inPix90\",\n",
    "\"inPix91\",\"inPix92\",\"inPix93\",\"inPix94\",\"inPix95\",\"inPix96\",\"inPix97\",\"inPix98\",\"inPix99\",\"inPix100\",\n",
    "\"inPix101\",\"inPix102\",\"inPix103\",\"inPix104\",\"inPix105\",\"inPix106\",\"inPix107\",\"inPix108\",\"inPix109\",\n",
    "\"inPix110\",\"inPix111\",\"inPix112\",\"inPix113\",\"inPix114\",\"inPix115\",\"inPix116\",\"inPix117\",\"inPix118\",\n",
    "\"inPix119\",\"inPix120\",\"inPix121\",\"inPix122\",\"inPix123\",\"inPix124\",\"inPix125\",\"inPix126\",\"inPix127\",\n",
    "\"inPix128\",\"inPix129\",\"inPix130\",\"inPix131\",\"inPix132\",\"inPix133\",\"inPix134\",\"inPix135\",\"inPix136\",\n",
    "\"inPix137\",\"inPix138\",\"inPix139\",\"inPix140\",\"inPix141\",\"inPix142\",\"inPix143\",\"inPix144\",\"inPix145\",\n",
    "\"inPix146\",\"inPix147\",\"inPix148\",\"inPix149\",\"inPix150\",\"inPix151\",\"inPix152\",\"inPix153\",\"inPix154\",\n",
    "\"inPix155\",\"inPix156\",\"inPix157\",\"inPix158\",\"inPix159\",\"inPix160\",\"inPix161\",\"inPix162\",\"inPix163\",\n",
    "\"inPix164\",\"inPix165\",\"inPix166\",\"inPix167\",\"inPix168\",\"inPix169\",\"inPix170\",\"inPix171\",\"inPix172\",\n",
    "\"inPix173\",\"inPix174\",\"inPix175\",\"inPix176\",\"inPix177\",\"inPix178\",\"inPix179\",\"inPix180\",\"inPix181\",\n",
    "\"inPix182\",\"inPix183\",\"inPix184\",\"inPix185\",\"inPix186\",\"inPix187\",\"inPix188\",\"inPix189\",\"inPix190\",\n",
    "\"inPix191\",\"inPix192\",\"inPix193\",\"inPix194\",\"inPix195\",\"inPix196\",\"inPix197\",\"inPix198\",\"inPix199\",\n",
    "\"inPix200\",\"inPix201\",\"inPix202\",\"inPix203\",\"inPix204\",\"inPix205\",\"inPix206\",\"inPix207\",\"inPix208\",\n",
    "\"inPix209\",\"inPix210\",\"inPix211\",\"inPix212\",\"inPix213\",\"inPix214\",\"inPix215\",\"inPix216\",\"inPix217\",\n",
    "\"inPix218\",\"inPix219\",\"inPix220\",\"inPix221\",\"inPix222\",\"inPix223\",\"inPix224\",\"inPix225\"]\n",
    "\n",
    "outPixLab = [\"outPix1\",\"outPix2\",\"outPix3\",\"outPix4\",\"outPix5\",\"outPix6\",\"outPix7\",\"outPix8\",\"outPix9\",\n",
    "             \"outPix10\",\"outPix11\",\"outPix12\",\"outPix13\",\"outPix14\",\"outPix15\",\"outPix16\",\"outPix17\",\n",
    "             \"outPix18\",\"outPix19\",\"outPix20\",\n",
    "\"outPix21\",\"outPix22\",\"outPix23\",\"outPix24\",\"outPix25\",\"outPix26\",\"outPix27\",\"outPix28\",\"outPix29\",\n",
    "\"outPix30\",\"outPix31\",\"outPix32\",\"outPix33\",\"outPix34\",\"outPix35\",\"outPix36\",\"outPix37\",\"outPix38\",\n",
    "\"outPix39\",\"outPix40\",\"outPix41\",\"outPix42\",\"outPix43\",\"outPix44\",\"outPix45\",\"outPix46\",\"outPix47\",\n",
    "\"outPix48\",\"outPix49\",\"outPix50\",\"outPix51\",\"outPix52\",\"outPix53\",\"outPix54\",\"outPix55\",\"outPix56\",\n",
    "\"outPix57\",\"outPix58\",\"outPix59\",\"outPix60\",\"outPix61\",\"outPix62\",\"outPix63\",\"outPix64\",\"outPix65\",\n",
    "\"outPix66\",\"outPix67\",\"outPix68\",\"outPix69\",\"outPix70\",\"outPix71\",\"outPix72\",\"outPix73\",\"outPix74\",\n",
    "\"outPix75\",\"outPix76\",\"outPix77\",\"outPix78\",\"outPix79\",\"outPix80\",\"outPix81\",\"outPix82\",\"outPix83\",\n",
    "\"outPix84\",\"outPix85\",\"outPix86\",\"outPix87\",\"outPix88\",\"outPix89\",\"outPix90\",\"outPix91\",\"outPix92\",\n",
    "\"outPix93\",\"outPix94\",\"outPix95\",\"outPix96\",\"outPix97\",\"outPix98\",\"outPix99\",\"outPix100\",\"outPix101\",\n",
    "\"outPix102\",\"outPix103\",\"outPix104\",\"outPix105\",\"outPix106\",\"outPix107\",\"outPix108\",\"outPix109\",\n",
    "\"outPix110\",\"outPix111\",\"outPix112\",\"outPix113\",\"outPix114\",\"outPix115\",\"outPix116\",\"outPix117\",\n",
    "\"outPix118\",\"outPix119\",\"outPix120\",\"outPix121\",\"outPix122\",\"outPix123\",\"outPix124\",\"outPix125\",\n",
    "\"outPix126\",\"outPix127\",\"outPix128\",\"outPix129\",\"outPix130\",\"outPix131\",\"outPix132\",\"outPix133\",\n",
    "\"outPix134\",\"outPix135\",\"outPix136\",\"outPix137\",\"outPix138\",\"outPix139\",\"outPix140\",\"outPix141\",\n",
    "\"outPix142\",\"outPix143\",\"outPix144\",\"outPix145\",\"outPix146\",\"outPix147\",\"outPix148\",\"outPix149\",\n",
    "\"outPix150\",\"outPix151\",\"outPix152\",\"outPix153\",\"outPix154\",\"outPix155\",\"outPix156\",\"outPix157\",\n",
    "\"outPix158\",\"outPix159\",\"outPix160\",\"outPix161\",\"outPix162\",\"outPix163\",\"outPix164\",\"outPix165\",\n",
    "\"outPix166\",\"outPix167\",\"outPix168\",\"outPix169\",\"outPix170\",\"outPix171\",\"outPix172\",\"outPix173\",\n",
    "\"outPix174\",\"outPix175\",\"outPix176\",\"outPix177\",\"outPix178\",\"outPix179\",\"outPix180\",\"outPix181\",\n",
    "\"outPix182\",\"outPix183\",\"outPix184\",\"outPix185\",\"outPix186\",\"outPix187\",\"outPix188\",\"outPix189\",\n",
    "\"outPix190\",\"outPix191\",\"outPix192\",\"outPix193\",\"outPix194\",\"outPix195\",\"outPix196\",\"outPix197\",\n",
    "\"outPix198\",\"outPix199\",\"outPix200\",\"outPix201\",\"outPix202\",\"outPix203\",\"outPix204\",\"outPix205\",\n",
    "\"outPix206\",\"outPix207\",\"outPix208\",\"outPix209\",\"outPix210\",\"outPix211\",\"outPix212\",\"outPix213\",\n",
    "\"outPix214\",\"outPix215\",\"outPix216\",\"outPix217\",\"outPix218\",\"outPix219\",\"outPix220\",\"outPix221\",\n",
    "\"outPix222\",\"outPix223\",\"outPix224\",\"outPix225\"]\n",
    "\n",
    "\n",
    "tailLab = [\"idTrack\",\"px\",\"py\",\"pz\",\"pt\",\"mT\",\"eT\",\"mSqr\",\"rapidity\",\"etaTrack\",\"phi\",\n",
    "\"pdgId\",\"charge\",\"noTrackerHits\",\"noTrackerLayers\",\"dZ\",\"dXY\",\"Xvertex\",\n",
    "\"Yvertex\",\"Zvertex\",\"bunCross\",\"isCosmic\",\"chargeMatch\",\"sigMatch\"]\n",
    "\n",
    "XYZ = [\"X\",\"Y\",\"Z\"]\n",
    "inXYZ = [\"inX\",\"inY\",\"inZ\"]\n",
    "outXYZ = [\"outX\",\"outY\",\"outZ\"]\n",
    "\n",
    "dataLab = headLab + inPixLab + outPixLab + [\"dummyFlag\"] + tailLab\n",
    "\n",
    "doubLab = headLab + inPixLab + outPixLab + [\"dummyFlag\"]\n",
    "\n",
    "infoLab = XYZ + tailLab\n",
    "\n",
    "\n"
   ]
  },
  {
   "cell_type": "code",
   "execution_count": 8,
   "metadata": {
    "collapsed": true
   },
   "outputs": [],
   "source": [
    "import pandas as pd"
   ]
  },
  {
   "cell_type": "code",
   "execution_count": 9,
   "metadata": {
    "collapsed": true
   },
   "outputs": [],
   "source": [
    "import numpy as np"
   ]
  },
  {
   "cell_type": "code",
   "execution_count": 18,
   "metadata": {
    "collapsed": true
   },
   "outputs": [],
   "source": [
    "def npDoubletsLoad(path,fileslimit):\n",
    "    print (\"======================================================================\")\n",
    "    \n",
    "    start = time.time()\n",
    "    \n",
    "    datafiles = np.array([f for f in listdir(path) if (isfile(join(path, f)) and  f.lower().endswith((\"txt\")) and \"_dataset.\" in f)])\n",
    "    \n",
    "    print(\"Loading \" + str(len(datafiles)) + \" dataset file(s) . . .\")\n",
    "    \n",
    "    singlePath = path + \"singleEvts/\"\n",
    "    \n",
    "    if not os.path.exists(singlePath):\n",
    "        os.makedirs(singlePath)\n",
    "    \n",
    "    listdata = []\n",
    "    for no,d in enumerate(datafiles):\n",
    "        if os.stat(path + d).st_size == 0:\n",
    "                print(\"File no.\" + str(no+1) + \" \" + d + \" empty.Skipping.\")\n",
    "                continue\n",
    "        with open(path + d, 'rb') as df:\n",
    "            print(\"Reading file no.\" + str(no+1) + \": \" + d)\n",
    "            dfDoublets = pd.read_table(df, sep=\"\\t\", header = None)\n",
    "            dfDoublets.columns = dataLab\n",
    "            #print(dfDoublets.head())\n",
    "            dfDoublets.to_hdf(singlePath + d.replace(\".txt\",\".h5\"),'data',append=True)\n",
    "            listdata.append(dfDoublets)\n",
    "            \n",
    "    alldata = pd.concat(listdata)\n",
    "    alldatacolumns = dataLab\n",
    "    \n",
    "    dfDoublets.to_hdf(path + \"doublets.h5\",'data',append=True)\n",
    "    \n",
    "    end = time.time()\n",
    "    print (\"======================================================================\")\n",
    "    print (\"\\n - Timing : \" + str(end-start))"
   ]
  },
  {
   "cell_type": "code",
   "execution_count": 17,
   "metadata": {},
   "outputs": [
    {
     "name": "stdout",
     "output_type": "stream",
     "text": [
      "Loading 18 dataset file(s) . . .\n",
      "Reading file no.0: 1_1_6_dataset.txt\n",
      "Reading file no.1: 1_1_1_dataset.txt\n",
      "Reading file no.3: 1_1_15_dataset.txt\n",
      "Reading file no.4: 1_1_3_dataset.txt\n",
      "Reading file no.5: 1_1_12_dataset.txt\n",
      "Reading file no.6: 1_1_17_dataset.txt\n",
      "Reading file no.7: 1_1_5_dataset.txt\n",
      "Reading file no.8: 1_1_14_dataset.txt\n",
      "Reading file no.9: 1_1_11_dataset.txt\n",
      "Reading file no.10: 1_1_9_dataset.txt\n",
      "Reading file no.11: 1_1_7_dataset.txt\n",
      "Reading file no.12: 1_1_2_dataset.txt\n",
      "Reading file no.13: 1_1_16_dataset.txt\n",
      "Reading file no.14: 1_1_8_dataset.txt\n",
      "Reading file no.15: 1_1_4_dataset.txt\n",
      "Reading file no.16: 1_1_10_dataset.txt\n",
      "Reading file no.17: 1_1_13_dataset.txt\n",
      "======================================================================\n",
      "\n",
      " - Timing : 28.3337540627\n"
     ]
    }
   ],
   "source": [
    "npDoubletsLoad(\"/lustre/home/adrianodif/HTCondor/doubletsnopu/32_79_runs/DataFiles/\",10)"
   ]
  },
  {
   "cell_type": "code",
   "execution_count": 33,
   "metadata": {},
   "outputs": [
    {
     "name": "stderr",
     "output_type": "stream",
     "text": [
      "usage: dataToHDF [-h] [--read READ] [--flimit FLIMIT]\n",
      "dataToHDF: error: unrecognized arguments: -f /run/user/50946/jupyter/kernel-67a79092-6857-46c7-861e-d5d9d0219711.json\n"
     ]
    },
    {
     "ename": "SystemExit",
     "evalue": "2",
     "output_type": "error",
     "traceback": [
      "An exception has occurred, use %tb to see the full traceback.\n",
      "\u001b[0;31mSystemExit\u001b[0m\u001b[0;31m:\u001b[0m 2\n"
     ]
    },
    {
     "name": "stderr",
     "output_type": "stream",
     "text": [
      "/lustre/home/adrianodif/Virtualenvs/keras_tf/lib/python2.7/site-packages/IPython/core/interactiveshell.py:2890: UserWarning: To exit: use 'exit', 'quit', or Ctrl-D.\n",
      "  warn(\"To exit: use 'exit', 'quit', or Ctrl-D.\", stacklevel=1)\n"
     ]
    }
   ],
   "source": [
    "if __name__ == '__main__':\n",
    "\n",
    "    parser = argparse.ArgumentParser(prog=\"dataToHDF\")\n",
    "    parser.add_argument('--read', type=str, default=\"/eos/cms/store/cmst3/group/dehep/convPixels/mixed/shuff/\",help='files path')\n",
    "    parser.add_argument('--flimit', type=int, default=-1,help='max no. of files')\n",
    "    #parser.add_argument('--debug', type=bool, default=False,help='debug printouts')\n",
    "    args = parser.parse_args()\n",
    "\n",
    "    npDoubletsLoad(args.read,args.flimit)\n",
    "\n",
    "c.FileContentsManager.post_save_hook = script_post_save"
   ]
  },
  {
   "cell_type": "code",
   "execution_count": null,
   "metadata": {
    "collapsed": true
   },
   "outputs": [],
   "source": []
  }
 ],
 "metadata": {
  "kernelspec": {
   "display_name": "Python 2",
   "language": "python",
   "name": "python2"
  },
  "language_info": {
   "codemirror_mode": {
    "name": "ipython",
    "version": 2
   },
   "file_extension": ".py",
   "mimetype": "text/x-python",
   "name": "python",
   "nbconvert_exporter": "python",
   "pygments_lexer": "ipython2",
   "version": "2.7.5"
  }
 },
 "nbformat": 4,
 "nbformat_minor": 2
}
